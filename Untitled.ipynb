{
 "cells": [
  {
   "cell_type": "code",
   "execution_count": 15,
   "id": "32b7938f",
   "metadata": {},
   "outputs": [
    {
     "name": "stdout",
     "output_type": "stream",
     "text": [
      "   time   flexion\n",
      "0    10  0.603448\n",
      "1    20  0.594828\n",
      "2    30  0.594828\n",
      "3    40  0.586207\n",
      "4    50  0.568966\n"
     ]
    }
   ],
   "source": [
    "import pandas as pd\n",
    "import numpy as np\n",
    "from sklearn.preprocessing import MinMaxScaler\n",
    "\n",
    "# Define file path (adjust as needed)\n",
    "file_path = \"finger1(pousse).csv\"\n",
    "\n",
    "def prepare_data(file_path):\n",
    "    data = pd.read_csv(file_path)\n",
    "    # Handle missing values\n",
    "    data.fillna(0, inplace=True)  # Replace missing values with 0\n",
    "\n",
    "    # Scale numerical features\n",
    "    scaler = MinMaxScaler()\n",
    "    data['flexion'] = scaler.fit_transform(data[['flexion']])\n",
    "\n",
    "    # Add time column\n",
    "    data['time'] = pd.to_datetime(data['timestamp'], unit='s')\n",
    "\n",
    "    return data\n",
    "\n",
    "# Load and prepare the data \n",
    "finger_data = prepare_data(file_path)\n",
    "\n",
    "# Display the prepared data\n",
    "print(finger_data.head())\n",
    "  "
   ]
  },
  {
   "cell_type": "code",
   "execution_count": null,
   "id": "4b97736d",
   "metadata": {},
   "outputs": [],
   "source": []
  },
  {
   "cell_type": "code",
   "execution_count": null,
   "id": "e5212c56",
   "metadata": {},
   "outputs": [],
   "source": []
  },
  {
   "cell_type": "code",
   "execution_count": null,
   "id": "0b20884e",
   "metadata": {},
   "outputs": [],
   "source": []
  }
 ],
 "metadata": {
  "kernelspec": {
   "display_name": "Python 3 (ipykernel)",
   "language": "python",
   "name": "python3"
  },
  "language_info": {
   "codemirror_mode": {
    "name": "ipython",
    "version": 3
   },
   "file_extension": ".py",
   "mimetype": "text/x-python",
   "name": "python",
   "nbconvert_exporter": "python",
   "pygments_lexer": "ipython3",
   "version": "3.11.5"
  }
 },
 "nbformat": 4,
 "nbformat_minor": 5
}
